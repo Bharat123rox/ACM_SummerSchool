{
 "cells": [
  {
   "cell_type": "markdown",
   "metadata": {},
   "source": [
    "# Project Details\n",
    "\n",
    "### AIM : \n",
    "<b> To implement a language model which will perform better in playing the Hangman game as compared to the traditional models which depend on unigram,bigram and n-gram models</b>"
   ]
  },
  {
   "cell_type": "markdown",
   "metadata": {},
   "source": [
    "### Personal Details\n",
    "\n",
    "<ol>\n",
    "    <li>Name: <b>G V Sandeep</b></li>\n",
    "    <li>College: <b>BITS - Pilani Hyderabad Campus</b></li>\n",
    "    <li>Github: <a href=\"https://github.com/greetsandeep/\">greetsandeep</a></li>\n",
    "</ol>\n",
    "\n",
    "This code is open sourced and can be found at : <a href\"\"></a>"
   ]
  }
 ],
 "metadata": {
  "kernelspec": {
   "display_name": "Python 2",
   "language": "python",
   "name": "python2"
  },
  "language_info": {
   "codemirror_mode": {
    "name": "ipython",
    "version": 2
   },
   "file_extension": ".py",
   "mimetype": "text/x-python",
   "name": "python",
   "nbconvert_exporter": "python",
   "pygments_lexer": "ipython2",
   "version": "2.7.13"
  }
 },
 "nbformat": 4,
 "nbformat_minor": 1
}
