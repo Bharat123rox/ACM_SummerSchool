{
 "cells": [
  {
   "cell_type": "markdown",
   "metadata": {},
   "source": [
    "# Project Details\n",
    "\n",
    "### AIM : \n",
    "<b> To implement a language model which will perform better in playing the Hangman game as compared to the traditional models which depend on unigram,bigram and n-gram models</b>"
   ]
  },
  {
   "cell_type": "markdown",
   "metadata": {},
   "source": [
    "#### Corpus Description\n",
    "##### Training Corpus\n",
    "<ul>\n",
    "<li>Name: <b> train.txt.</b></li>\n",
    "<li>Description: <b> Contains 753064 lowercase english words</b></li>\n",
    "</ul>\n",
    "\n",
    "##### Testing Corpus\n",
    "<ul>\n",
    "<li>Name: <b> test.txt.</b></li>\n",
    "<li>Description: <b> Contains 11118 lowercase english words</b></li>\n",
    "</ul>\n"
   ]
  },
  {
   "cell_type": "code",
   "execution_count": null,
   "metadata": {
    "collapsed": false,
    "scrolled": false
   },
   "outputs": [],
   "source": [
    "import random\n",
    "import time\n",
    "words = []\n",
    "start_time = time.time()\n",
    "with open(\"train.txt\", mode=\"r\") as myFile:\n",
    "    for line in myFile:\n",
    "        try:\n",
    "            words.append(line.strip().encode(\"utf-8\"))\n",
    "        except:\n",
    "            pass\n",
    "\n",
    "print \"Reading the file takes %s seconds\" % (time.time() - start_time)"
   ]
  },
  {
   "cell_type": "code",
   "execution_count": null,
   "metadata": {
    "collapsed": false
   },
   "outputs": [],
   "source": [
    "#### Calculating alphabet probabilities in the list of words\n",
    "\"\"\"\n",
    "This function returns the probability s of a particular alphabet, calculated on the basis of \n",
    "its occurence in the word list passed it to it\n",
    "\"\"\"\n",
    "import operator\n",
    "def count_alpha_occurence(list_of_words):\n",
    "    start_time = time.time()\n",
    "    freq_dict = [0]*26\n",
    "    total = 0\n",
    "    for word in list_of_words:\n",
    "        for char in word:\n",
    "            total += word.count(char)\n",
    "            freq_dict[ord(char)-ord('a')] = freq_dict[ord(char)-ord('a')] + word.count(char)\n",
    "\n",
    "    for i in xrange(len(freq_dict)):\n",
    "        freq_dict[i] = float(freq_dict[i])/total\n",
    "    print \"Calculating alphabet freuency %s seconds\" % (time.time() - start_time)\n",
    "    return freq_dict    "
   ]
  },
  {
   "cell_type": "code",
   "execution_count": null,
   "metadata": {
    "collapsed": false
   },
   "outputs": [],
   "source": [
    "#### Calculating the conditional probabilties of an alphabet\n",
    "\"\"\"\n",
    " For a given a alphabet 'a' it returns a dictionary where key is 'b' and value is the probability of b \n",
    " occuring in a word given that 'a' is present in the word. This is to exploit the fact that occurence \n",
    " of an alphabet depends on the company it keeps.\n",
    "\"\"\"\n",
    "import string\n",
    "def conditional_prob(words):\n",
    "    start_time = time.time()\n",
    "    letter_freq = {}\n",
    "    prob = {}\n",
    "    for i in string.lowercase:\n",
    "        prob[i] = {}\n",
    "        for word in words:\n",
    "            if str(i) in word:\n",
    "                if i in letter_freq:\n",
    "                    letter_freq[i] +=1\n",
    "                else:\n",
    "                    letter_freq[i] = 1\n",
    "                for char in word:\n",
    "                    if char == i:\n",
    "                        continue\n",
    "                    if i in prob:\n",
    "                        if char in prob[i]:\n",
    "                            prob[i][char] += 1\n",
    "                        else:\n",
    "                            prob[i][char] = 1\n",
    "                    else:\n",
    "                        prob[i][char] = 1\n",
    "    for key in prob.keys():\n",
    "         for inner_key in prob[key].keys():\n",
    "            prob[key][inner_key] = float(prob[key][inner_key])/letter_freq[key]\n",
    "    print \"Conditional Probability Calculation %s seconds\" % (time.time() - start_time)\n",
    "    return prob\n"
   ]
  },
  {
   "cell_type": "code",
   "execution_count": null,
   "metadata": {
    "collapsed": false
   },
   "outputs": [],
   "source": [
    "#### Main function\n",
    "\"\"\"\n",
    "This function checks whether the guessed letter exists in the word and returns the number of\n",
    "wrong guesses done to predict the word.\n",
    "\"\"\"\n",
    "\n",
    "\n",
    "guesses_for_this_word = []\n",
    "def hangman(secret_word, guesser, max_mistakes=8, verbose=True):\n",
    "    global guesses_for_this_word\n",
    "    guesses_for_this_word = []\n",
    "    secret_word = secret_word.lower()\n",
    "    mask = ['_'] * len(secret_word)\n",
    "    guessed = set()\n",
    "    if verbose:\n",
    "        print(\"Starting hangman game. Target is\", ' '.join(mask), 'length', len(secret_word))\n",
    "    \n",
    "    mistakes = 0\n",
    "    while mistakes < max_mistakes:\n",
    "        if verbose:\n",
    "            print(\"You have\", (max_mistakes-mistakes), \"attempts remaining.\")\n",
    "        guess = guesser(mask, guessed)\n",
    "\n",
    "        if verbose:\n",
    "            print('Guess is', guess)\n",
    "        if guess in guessed:\n",
    "            if verbose:\n",
    "                print('Already guessed this before.')\n",
    "            mistakes += 1\n",
    "        else:\n",
    "            try:\n",
    "                guessed.add(guess)\n",
    "            except:\n",
    "                print(guessed,guess)\n",
    "            if guess in secret_word:\n",
    "                for i, c in enumerate(secret_word):\n",
    "                    if c == guess:\n",
    "                        mask[i] = c\n",
    "                if verbose:\n",
    "                    print('Good guess:', ' '.join(mask))\n",
    "            else:\n",
    "                if verbose:\n",
    "                    print('Sorry, try again.')\n",
    "                mistakes += 1\n",
    "                \n",
    "        if '_' not in mask:\n",
    "            if verbose:\n",
    "                print('Congratulations, you won.')\n",
    "            return mistakes\n",
    "        \n",
    "    if verbose:\n",
    "        print('Out of guesses. The word was', secret_word)\n",
    "    guesses_for_this_word = list(guessed)\n",
    "    return mistakes"
   ]
  },
  {
   "cell_type": "code",
   "execution_count": null,
   "metadata": {
    "collapsed": false
   },
   "outputs": [],
   "source": [
    "def randomly(mask,guesses):\n",
    "    char = numpy.random.choice(list(string.lowercase))\n",
    "    while char in guesses:\n",
    "        char = numpy.random.choice(list(string.lowercase))\n",
    "    return char"
   ]
  },
  {
   "cell_type": "code",
   "execution_count": null,
   "metadata": {
    "collapsed": true
   },
   "outputs": [],
   "source": [
    "def normalize(co_occ_dict):\n",
    "    total = 0\n",
    "    for key in co_occ_dict:\n",
    "        total += co_occ_dict[key]\n",
    "    for key in co_occ_dict:\n",
    "        co_occ_dict[key] = co_occ_dict[key]/float(total)\n",
    "    return co_occ_dict"
   ]
  },
  {
   "cell_type": "code",
   "execution_count": null,
   "metadata": {
    "collapsed": false,
    "scrolled": false
   },
   "outputs": [],
   "source": [
    "import numpy\n",
    "occurences = count_alpha_occurence(words)\n",
    "co_occurences = conditional_prob(words)\n",
    "prev_guess = 'a'"
   ]
  },
  {
   "cell_type": "code",
   "execution_count": null,
   "metadata": {
    "collapsed": false
   },
   "outputs": [],
   "source": [
    "import random\n",
    "def model_1(mask,guesses):\n",
    "    global occurences,prev_guess\n",
    "    if len(mask) == mask.count('_'):\n",
    "        char = numpy.random.choice(list(string.lowercase),1,occurences)[0]\n",
    "        while char in guesses:\n",
    "            char = numpy.random.choice(list(string.lowercase),1,occurences)[0]\n",
    "        prev_guess = char\n",
    "        return char\n",
    "    else:\n",
    "        temp = normalize(co_occurences[prev_guess])\n",
    "        temp = sorted(temp.items(), key=operator.itemgetter(1),reverse=True)\n",
    "        cdf  = [(i, sum(p for j,p in temp if j < i)) for i,_ in temp]\n",
    "        char = max(i for r in [random.random()] for i,c in cdf if c <= r)\n",
    "        while char in guesses:\n",
    "            char = max(i for r in [random.random()] for i,c in cdf if c <= r)\n",
    "        prev_guess = char\n",
    "        return char"
   ]
  },
  {
   "cell_type": "code",
   "execution_count": null,
   "metadata": {
    "collapsed": false
   },
   "outputs": [],
   "source": [
    "def model_2(mask,guesses):\n",
    "    global occurences,prev_guess\n",
    "    copy = occurences[:]\n",
    "    if len(mask) == mask.count('_'):\n",
    "        temp = copy.index(max(copy))\n",
    "        copy[temp] = -1\n",
    "        char = chr(temp+97)\n",
    "        while char in guesses:\n",
    "            temp = copy.index(max(copy))\n",
    "            copy[temp] = -1\n",
    "            char = chr(temp+97)\n",
    "        prev_guess = char\n",
    "        return char\n",
    "    else:\n",
    "        temp = normalize(co_occurences[prev_guess])\n",
    "        temp = sorted(temp.items(), key=operator.itemgetter(1),reverse=True)\n",
    "        cdf  = [(i, sum(p for j,p in temp if j < i)) for i,_ in temp]\n",
    "        char = max(i for r in [random.random()] for i,c in cdf if c <= r)\n",
    "        while char in guesses:\n",
    "            char = max(i for r in [random.random()] for i,c in cdf if c <= r)\n",
    "        prev_guess = char\n",
    "        return char\n",
    "hangman('anaconda',model_2,verbose=True)"
   ]
  },
  {
   "cell_type": "code",
   "execution_count": null,
   "metadata": {
    "collapsed": false
   },
   "outputs": [],
   "source": [
    "test_words = []\n",
    "start_time = time.time()\n",
    "with open(\"test.txt\", mode=\"r\") as myFile:\n",
    "    for line in myFile:\n",
    "        try:\n",
    "            test_words.append(line.strip().encode(\"utf-8\"))\n",
    "        except:\n",
    "            pass\n",
    "\n",
    "print \"Reading the file takes %s seconds\" % (time.time() - start_time)"
   ]
  },
  {
   "cell_type": "code",
   "execution_count": null,
   "metadata": {
    "collapsed": false,
    "scrolled": true
   },
   "outputs": [],
   "source": [
    "import json\n",
    "mistakes = 0\n",
    "correct = 0\n",
    "performance = dict()\n",
    "start_time = time.time()\n",
    "for word in test_words:\n",
    "    temp= hangman(word,randomly,verbose=False)\n",
    "    if temp < 8:\n",
    "        correct += 1\n",
    "    else:\n",
    "        mistakes += temp\n",
    "    performance[word] = guesses_for_this_word\n",
    "\n",
    "print \"Testing takes %s seconds\" % (time.time() - start_time)\n",
    "print \"Correctly guessed words \" , correct\n",
    "\n",
    "f = open('random.json','w')\n",
    "json.dump(performance,f)\n",
    "f.close()"
   ]
  },
  {
   "cell_type": "code",
   "execution_count": null,
   "metadata": {
    "collapsed": false,
    "scrolled": true
   },
   "outputs": [],
   "source": [
    "mistakes = 0\n",
    "correct = 0\n",
    "performance = dict()\n",
    "start_time = time.time()\n",
    "for word in test_words:\n",
    "    temp= hangman(word,model_1,verbose=False)\n",
    "    if temp < 8:\n",
    "        correct += 1\n",
    "    else:\n",
    "        mistakes += temp\n",
    "    performance[word] = guesses_for_this_word\n",
    "\n",
    "print \"Testing takes %s seconds\" % (time.time() - start_time)\n",
    "print \"Correctly guessed words \" , correct\n",
    "\n",
    "f = open('model1.json','w')\n",
    "json.dump(performance,f)\n",
    "f.close()"
   ]
  },
  {
   "cell_type": "code",
   "execution_count": null,
   "metadata": {
    "collapsed": false
   },
   "outputs": [],
   "source": [
    "mistakes = 0\n",
    "correct = 0\n",
    "performance = dict()\n",
    "start_time = time.time()\n",
    "for word in test_words:\n",
    "    temp= hangman(word,model_2,verbose=False)\n",
    "    if temp < 8:\n",
    "        correct += 1\n",
    "    else:\n",
    "        mistakes += temp\n",
    "    performance[word] = guesses_for_this_word\n",
    "\n",
    "print \"Testing takes %s seconds\" % (time.time() - start_time)\n",
    "print \"Correctly guessed words \" , correct\n",
    "\n",
    "f = open('model_2.json','w')\n",
    "json.dump(performance,f)\n",
    "f.close()"
   ]
  },
  {
   "cell_type": "markdown",
   "metadata": {},
   "source": [
    "### Personal Details\n",
    "\n",
    "<ol>\n",
    "    <li>Name: <b>G V Sandeep</b></li>\n",
    "    <li>College: <b>BITS - Pilani, Hyderabad Campus</b></li>\n",
    "    <li>Github: <a href=\"https://github.com/greetsandeep/\">greetsandeep</a></li>\n",
    "</ol>\n",
    "\n",
    "This code is open sourced and can be found at : <a href\"https://github.com/greetsandeep/ACM_SummerSchool/tree/master/Improvising%20Hangman\">Improvising Hangman</a>"
   ]
  }
 ],
 "metadata": {
  "kernelspec": {
   "display_name": "Python 2",
   "language": "python",
   "name": "python2"
  },
  "language_info": {
   "codemirror_mode": {
    "name": "ipython",
    "version": 2
   },
   "file_extension": ".py",
   "mimetype": "text/x-python",
   "name": "python",
   "nbconvert_exporter": "python",
   "pygments_lexer": "ipython2",
   "version": "2.7.13"
  }
 },
 "nbformat": 4,
 "nbformat_minor": 1
}
