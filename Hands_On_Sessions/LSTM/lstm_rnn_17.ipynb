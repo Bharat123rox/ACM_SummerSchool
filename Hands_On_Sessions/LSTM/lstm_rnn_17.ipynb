{
 "cells": [
  {
   "cell_type": "markdown",
   "metadata": {},
   "source": [
    "# The Hangman Game\n",
    "### Using Tensorflow version 0.10. Latest version is 1.2. Some functions differ slightly in the latest version."
   ]
  },
  {
   "cell_type": "code",
   "execution_count": 1,
   "metadata": {
    "collapsed": true
   },
   "outputs": [],
   "source": [
    "import tensorflow as tf\n",
    "import numpy as np"
   ]
  },
  {
   "cell_type": "code",
   "execution_count": 2,
   "metadata": {
    "collapsed": true
   },
   "outputs": [],
   "source": [
    "# allowing better python 2 & python 3 compatibility \n",
    "from __future__ import print_function \n",
    "\n",
    "def hangman(secret_word, guesser, max_mistakes=8, verbose=True):\n",
    "    secret_word = secret_word.lower()\n",
    "    mask = ['_'] * len(secret_word)\n",
    "    guessed = set()\n",
    "    if verbose:\n",
    "        print(\"Starting hangman game. Target is\", ' '.join(mask), 'length', len(secret_word))\n",
    "    \n",
    "    mistakes = 0\n",
    "    while mistakes < max_mistakes:\n",
    "        if verbose:\n",
    "            print(\"You have\", (max_mistakes-mistakes), \"attempts remaining.\")\n",
    "        guess = guesser(mask, guessed)\n",
    "\n",
    "        if verbose:\n",
    "            print('Guess is', guess)\n",
    "        if guess in guessed:\n",
    "            if verbose:\n",
    "                print('Already guessed this before.')\n",
    "            mistakes += 1\n",
    "        else:\n",
    "            try:\n",
    "                guessed.add(guess)\n",
    "            except:\n",
    "                print(guessed,guess)\n",
    "            if guess in secret_word:\n",
    "                for i, c in enumerate(secret_word):\n",
    "                    if c == guess:\n",
    "                        mask[i] = c\n",
    "                if verbose:\n",
    "                    print('Good guess:', ' '.join(mask))\n",
    "            else:\n",
    "                if verbose:\n",
    "                    print('Sorry, try again.')\n",
    "                mistakes += 1\n",
    "                \n",
    "        if '_' not in mask:\n",
    "            if verbose:\n",
    "                print('Congratulations, you won.')\n",
    "            return mistakes\n",
    "        \n",
    "    if verbose:\n",
    "        print('Out of guesses. The word was', secret_word)    \n",
    "    return mistakes\n",
    "\n",
    "def human(mask, guessed):\n",
    "    print('Enter your guess:')\n",
    "    return raw_input().lower().strip()\n",
    "    #return input().lower().strip() # swap with above for python 3\n"
   ]
  },
  {
   "cell_type": "markdown",
   "metadata": {},
   "source": [
    "## Loading the dataset"
   ]
  },
  {
   "cell_type": "code",
   "execution_count": 3,
   "metadata": {
    "collapsed": false
   },
   "outputs": [],
   "source": [
    "f = open('train.txt').read().splitlines()\n",
    "\n",
    "# Randomly permutes the words\n",
    "f = [f[i] for i in np.random.permutation(len(f))]\n",
    "max_len = np.max([len(x) for x in f])\n",
    "test = []\n",
    "train = []\n",
    "for i,item in enumerate(f):\n",
    "        train.append(item)\n",
    "        \n",
    "test = []\n",
    "with open(\"test.txt\", mode=\"r\") as myFile:\n",
    "    for line in myFile:\n",
    "        try:\n",
    "            test.append(line.strip())\n",
    "        except:\n",
    "            pass\n",
    "    "
   ]
  },
  {
   "cell_type": "markdown",
   "metadata": {},
   "source": [
    "# Creating the Neural Network"
   ]
  },
  {
   "cell_type": "code",
   "execution_count": 4,
   "metadata": {
    "collapsed": true
   },
   "outputs": [],
   "source": [
    "initializer = tf.contrib.layers.xavier_initializer()\n",
    "lstm_dim = 300\n",
    "model_weight_file = \"model.weights\"\n",
    "load_model = False\n",
    "batch_size = 64"
   ]
  },
  {
   "cell_type": "code",
   "execution_count": 5,
   "metadata": {
    "collapsed": true
   },
   "outputs": [],
   "source": [
    "def fclayer(inp, num_out, act=tf.nn.tanh, name=None, reuse=None):\n",
    "    if name is None:\n",
    "        name = \"fclinear\"\n",
    "    with tf.variable_scope(name, reuse=reuse):\n",
    "        shape = inp.get_shape()\n",
    "        num_in = int(shape[1])\n",
    "        W = tf.get_variable(\n",
    "            name=\"W\", shape=[num_in, num_out], initializer=initializer)\n",
    "        b = tf.get_variable(\n",
    "            name=\"b\", shape=[num_out], initializer=tf.constant_initializer(0))\n",
    "\n",
    "        out = tf.matmul(inp, W) + b\n",
    "        return out\n",
    "\n",
    "\n",
    "def fclayer3d(inp, num_out, act=tf.nn.tanh, name=None, reuse=None):\n",
    "    if name is None:\n",
    "        name = \"fclinear3d\"\n",
    "    with tf.variable_scope(name, reuse=reuse):\n",
    "        shape = inp.get_shape()\n",
    "        d = int(shape[2])\n",
    "        l = int(shape[1])\n",
    "        inp = tf.reshape(inp, [-1, d])\n",
    "        out = fclayer(inp=inp, num_out=num_out, act=act)\n",
    "        out = tf.reshape(out, [-1, l, num_out])\n",
    "        return out"
   ]
  },
  {
   "cell_type": "code",
   "execution_count": 6,
   "metadata": {
    "collapsed": false
   },
   "outputs": [],
   "source": [
    "# Defining the input variables\n",
    "input_seq = tf.placeholder(\n",
    "            dtype=tf.int32,\n",
    "            shape=[None, max_len],\n",
    "            name=\"input_seq\"\n",
    "        )  # [x, l]\n",
    "\n",
    "seq_len = tf.placeholder(\n",
    "            dtype=tf.int32,\n",
    "            shape=[None],\n",
    "            name=\"seq_len\"\n",
    "        )  # [x]\n",
    "\n",
    "labels = tf.placeholder(\n",
    "            dtype=tf.int32,\n",
    "            shape=[None, 26],\n",
    "            name=\"labels\"\n",
    "        )  # [x, 26]\n",
    "\n",
    "# One hot encoding of the input\n",
    "one_hot_seq = tf.one_hot(input_seq, depth=26)  # [x, l, 26]"
   ]
  },
  {
   "cell_type": "markdown",
   "metadata": {},
   "source": [
    "# Creating the LSTM"
   ]
  },
  {
   "cell_type": "code",
   "execution_count": 7,
   "metadata": {
    "collapsed": false
   },
   "outputs": [
    {
     "ename": "AttributeError",
     "evalue": "'module' object has no attribute 'rnn_cell'",
     "output_type": "error",
     "traceback": [
      "\u001b[0;31m---------------------------------------------------------------------------\u001b[0m",
      "\u001b[0;31mAttributeError\u001b[0m                            Traceback (most recent call last)",
      "\u001b[0;32m<ipython-input-7-d90b2fa94f15>\u001b[0m in \u001b[0;36m<module>\u001b[0;34m()\u001b[0m\n\u001b[1;32m      1\u001b[0m \u001b[0mlstm_inp\u001b[0m \u001b[0;34m=\u001b[0m \u001b[0mfclayer3d\u001b[0m\u001b[0;34m(\u001b[0m\u001b[0mone_hot_seq\u001b[0m\u001b[0;34m,\u001b[0m \u001b[0mlstm_dim\u001b[0m\u001b[0;34m)\u001b[0m  \u001b[0;31m# [x, l, lstm_dim]\u001b[0m\u001b[0;34m\u001b[0m\u001b[0m\n\u001b[1;32m      2\u001b[0m \u001b[0;34m\u001b[0m\u001b[0m\n\u001b[0;32m----> 3\u001b[0;31m cell_fw = tf.contrib.rnn_cell.LSTMCell(\n\u001b[0m\u001b[1;32m      4\u001b[0m             \u001b[0mlstm_dim\u001b[0m\u001b[0;34m,\u001b[0m\u001b[0;34m\u001b[0m\u001b[0m\n\u001b[1;32m      5\u001b[0m             \u001b[0minitializer\u001b[0m\u001b[0;34m=\u001b[0m\u001b[0minitializer\u001b[0m\u001b[0;34m,\u001b[0m\u001b[0;34m\u001b[0m\u001b[0m\n",
      "\u001b[0;31mAttributeError\u001b[0m: 'module' object has no attribute 'rnn_cell'"
     ]
    }
   ],
   "source": [
    "lstm_inp = fclayer3d(one_hot_seq, lstm_dim)  # [x, l, lstm_dim]\n",
    "\n",
    "cell_fw = tf.contrib.rnn_cell.LSTMCell(\n",
    "            lstm_dim,\n",
    "            initializer=initializer,\n",
    "            state_is_tuple=True,\n",
    "            activation=tf.nn.tanh\n",
    "        )\n",
    "\n",
    "cell_bw = tf.contrib.rnn_cell.LSTMCell(\n",
    "            lstm_dim,\n",
    "            initializer=initializer,\n",
    "            state_is_tuple=True,\n",
    "            activation=tf.nn.tanh\n",
    "        )\n",
    "\n",
    "lstm_inp = tf.transpose(lstm_inp, [1, 0, 2])\n",
    "lstm_inp = tf.unpack(lstm_inp)\n",
    "\n",
    "outputs, state_fw, state_bw = tf.nn.bidirectional_rnn(\n",
    "            cell_fw=cell_fw,\n",
    "            cell_bw=cell_bw,\n",
    "            inputs=lstm_inp,\n",
    "            dtype=tf.float32,\n",
    "            sequence_length=seq_len\n",
    "        )\n",
    "\n",
    "output_state = tf.pack(state_fw,state_bw)\n",
    "output_state = tf.transpose(output_state, [1, 0, 2])  # [x, 4, d]\n",
    "output_state = tf.reshape(output_state, [-1, 4 * lstm_dim])  # [x, 4*d]"
   ]
  },
  {
   "cell_type": "markdown",
   "metadata": {},
   "source": [
    "# Using LSTM output to predict"
   ]
  },
  {
   "cell_type": "code",
   "execution_count": null,
   "metadata": {
    "collapsed": false
   },
   "outputs": [],
   "source": [
    "pred_layer1 = fclayer(output_state, 500)\n",
    "pred_layer2 = fclayer3d(pred_layer1, 500)\n",
    "pred_out = fclayer3d(pred_layer2, 26)  # [x, 26]\n",
    "pred_probs = tf.nn.softmax(pred_out)"
   ]
  },
  {
   "cell_type": "markdown",
   "metadata": {},
   "source": [
    "# Creating loss function and optimizer"
   ]
  },
  {
   "cell_type": "code",
   "execution_count": null,
   "metadata": {
    "collapsed": true
   },
   "outputs": [],
   "source": [
    "log_prob = tf.log(pred_probs)  # [x, 26]\n",
    "loss = - log_prob * labels  # [x, 26]\n",
    "loss = tf.reduce_sum(loss, axis=1)  # [x]\n",
    "loss = tf.reduce_mean(loss)  # scalar\n",
    "\n",
    "optimizer = tf.train.AdamOptimizer(learning_rate=0.001).minimize(loss)\n",
    "init = tf.initialize_all_variables()\n",
    "saver = tf.train.Saver()"
   ]
  },
  {
   "cell_type": "markdown",
   "metadata": {},
   "source": [
    "# Train"
   ]
  },
  {
   "cell_type": "code",
   "execution_count": null,
   "metadata": {
    "collapsed": true
   },
   "outputs": [],
   "source": [
    "def get_batches(data):\n",
    "    num_batches = len(data) / batch_size\n",
    "    for i in range(num_batches):\n",
    "        batch_x = data[batch_size * i: batch_size * (i+1)]\n",
    "        len_x = np.zeros(batch_size)\n",
    "        batch_y = np.zeros((batch_size, 26))\n",
    "        \n",
    "        # TODO for each example in batch_x:\n",
    "        # - Map each character to a number between 0 to 25.\n",
    "        # - Randomly replace some numbers with -1 (-1 denotes '_'). Note: replace all occurences of the numbers.\n",
    "        # - For each replaced number i, set batch_y[example, i] = number of occurrences of i.\n",
    "        # - Compute the length of each example and store in the len_x.\n",
    "        # - Append '-1' to all examples so that their length is equal to max_len\n",
    "        \n",
    "        yield batch_x, len_x, batch_y"
   ]
  },
  {
   "cell_type": "code",
   "execution_count": null,
   "metadata": {
    "collapsed": false
   },
   "outputs": [],
   "source": [
    "for batch_x, len_x, batch_y in get_batches(train):\n",
    "    print batch_x\n",
    "    print len_x\n",
    "    print batch_y\n",
    "    break  # breaking early for testing"
   ]
  },
  {
   "cell_type": "code",
   "execution_count": null,
   "metadata": {
    "collapsed": true
   },
   "outputs": [],
   "source": [
    "with tf.Session as sess:\n",
    "    if load_model:\n",
    "        saver.restore(sess, model_weight_file)\n",
    "        # If loading trained model, no need to train again\n",
    "    else:\n",
    "        sess.run(init)\n",
    "        # TODO:\n",
    "        # - Iterate over the batches and train the model\n",
    "        # - Calculate the train and test accuracy after regular intervals to track your training\n",
    "        # - Save your model after regular intervals"
   ]
  },
  {
   "cell_type": "code",
   "execution_count": null,
   "metadata": {
    "collapsed": true
   },
   "outputs": [],
   "source": [
    "def guesser(mask, guessed):\n",
    "    # TODO:\n",
    "    # - Define your guesser function so that it uses the trained model to guess characters.\n",
    "    # - Return the character with the highest probability (or highest logit) and which has not been guessed yet.\n",
    "    # - To get the logits from the model, you have to do the same kind of one-hot mapping as done in\n",
    "    #   get_batches function."
   ]
  },
  {
   "cell_type": "code",
   "execution_count": 8,
   "metadata": {
    "collapsed": false
   },
   "outputs": [
    {
     "name": "stdout",
     "output_type": "stream",
     "text": [
      "11 2\n",
      "11\n",
      "[0, 4, -1, -1, 14, -1, -1, -1, -1, -1, -1, -1, -1, -1, -1, -1, -1, -1, -1, -1, -1, -1, -1, -1, -1, -1, -1, -1, -1, -1, -1, -1, -1, -1, -1, -1, -1, -1, -1]\n"
     ]
    }
   ],
   "source": [
    "import string\n",
    "test = \"aello\"\n",
    "test_int = [0]*len(test)\n",
    "i = 0\n",
    "for char in test:\n",
    "    test_int[i] = ord(char)-97\n",
    "    i += 1\n",
    "    \n",
    "num_to_replace = np.random.choice(test_int)\n",
    "ind = test_int.index(num_to_replace)\n",
    "count = 0\n",
    "while ind :\n",
    "    test_int[ind] = -1\n",
    "    count += 1\n",
    "    try:\n",
    "        ind = test_int.index(num_to_replace)\n",
    "    except:\n",
    "        print(num_to_replace,count)\n",
    "        break\n",
    "print(num_to_replace)\n",
    "ex_len = len(test_int)\n",
    "test_int = test_int + [-1]*(max_len - len(test_int))\n",
    "print(test_int)"
   ]
  }
 ],
 "metadata": {
  "anaconda-cloud": {},
  "kernelspec": {
   "display_name": "Python 2",
   "language": "python",
   "name": "python2"
  },
  "language_info": {
   "codemirror_mode": {
    "name": "ipython",
    "version": 2
   },
   "file_extension": ".py",
   "mimetype": "text/x-python",
   "name": "python",
   "nbconvert_exporter": "python",
   "pygments_lexer": "ipython2",
   "version": "2.7.13"
  }
 },
 "nbformat": 4,
 "nbformat_minor": 2
}
